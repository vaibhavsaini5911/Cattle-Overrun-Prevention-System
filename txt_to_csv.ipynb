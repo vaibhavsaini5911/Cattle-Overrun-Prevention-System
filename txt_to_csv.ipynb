{
 "cells": [
  {
   "cell_type": "code",
   "execution_count": 59,
   "metadata": {},
   "outputs": [],
   "source": [
    "from os import walk\n",
    "import csv\n",
    "import string"
   ]
  },
  {
   "cell_type": "code",
   "execution_count": 60,
   "metadata": {},
   "outputs": [],
   "source": [
    "animal_name = \"zebra\"#name of animal class\n",
    "filename = \"zebra.csv\"#filename that is to be generated\n",
    "path = \"dataset/zebra\"#path of txt files"
   ]
  },
  {
   "cell_type": "code",
   "execution_count": 61,
   "metadata": {},
   "outputs": [],
   "source": [
    "# getting list of names of the files in the directory\n",
    "file_names = []\n",
    "for (filenames) in walk(path):\n",
    "    file_names.extend(filenames)\n",
    "    break\n",
    "file_names = file_names[2]"
   ]
  },
  {
   "cell_type": "code",
   "execution_count": 62,
   "metadata": {},
   "outputs": [],
   "source": [
    "# separating and sorting the the txt and jpg files\n",
    "jpg_files = [ fi for fi in file_names if not fi.endswith(\".jpg\") ]\n",
    "txt_files = [ fi for fi in file_names if not fi.endswith(\".txt\") ]\n",
    "\n",
    "del filenames\n",
    "\n",
    "jpg_files.sort()\n",
    "txt_files.sort()"
   ]
  },
  {
   "cell_type": "code",
   "execution_count": 63,
   "metadata": {},
   "outputs": [],
   "source": [
    "# concatenating the file names\n",
    "file_names = []\n",
    "for (jpg, txt) in zip(jpg_files, txt_files):\n",
    "    temp = []\n",
    "    temp.append(txt)\n",
    "    temp.append(jpg)\n",
    "    file_names.append(temp)\n",
    "\n",
    "del jpg_files\n",
    "del txt_files\n"
   ]
  },
  {
   "cell_type": "code",
   "execution_count": 64,
   "metadata": {},
   "outputs": [],
   "source": [
    "# concatenating animal name and data\n",
    "data = []\n",
    "for name in file_names:\n",
    "    lines = []\n",
    "    file_path = path + \"/\" + name[1]\n",
    "    with open(file_path, 'r') as f:\n",
    "        lines = f.readlines()\n",
    "    for line in lines:\n",
    "        sub_list = []\n",
    "        sub_list.append(name[0])\n",
    "        line = line.split()\n",
    "        line.append(animal_name)\n",
    "        for x in line[1:]:\n",
    "            sub_list.append(x)\n",
    "        data.append(sub_list)"
   ]
  },
  {
   "cell_type": "code",
   "execution_count": 65,
   "metadata": {},
   "outputs": [],
   "source": [
    "with open(filename, 'w', newline='') as f:\n",
    "    writer = csv.writer(f)\n",
    "    writer.writerows(data)"
   ]
  }
 ],
 "metadata": {
  "kernelspec": {
   "display_name": "Python 3",
   "language": "python",
   "name": "python3"
  },
  "language_info": {
   "codemirror_mode": {
    "name": "ipython",
    "version": 3
   },
   "file_extension": ".py",
   "mimetype": "text/x-python",
   "name": "python",
   "nbconvert_exporter": "python",
   "pygments_lexer": "ipython3",
   "version": "3.8.6"
  }
 },
 "nbformat": 4,
 "nbformat_minor": 2
}
